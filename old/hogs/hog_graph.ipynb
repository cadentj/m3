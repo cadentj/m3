{
 "cells": [
  {
   "cell_type": "code",
   "execution_count": 1,
   "metadata": {},
   "outputs": [],
   "source": [
    "import networkx as nx"
   ]
  },
  {
   "cell_type": "code",
   "execution_count": 18,
   "metadata": {},
   "outputs": [],
   "source": [
    "regions = [\"South\", \"North\", \"East\", \"West\", \"Central\"]\n",
    "attributes = [\"Predator Population\", \"Prey Population\", \"Carrying Capacity\", \"Area\"]\n",
    "connections = [(\"North\", \"East\"), (\"North\", \"West\"), (\"South\", \"East\"), (\"South\", \"West\"), (\"East\", \"Central\"), (\"West\", \"Central\"), (\"Central\", \"North\"), (\"Central\", \"South\")]"
   ]
  },
  {
   "cell_type": "code",
   "execution_count": 19,
   "metadata": {},
   "outputs": [],
   "source": [
    "G = nx.Graph()\n",
    "G.add_nodes_from(regions)\n",
    "G.add_edges_from(connections)"
   ]
  },
  {
   "cell_type": "code",
   "execution_count": 20,
   "metadata": {},
   "outputs": [],
   "source": [
    "for node in G.nodes():\n",
    "    for attribute in attributes:\n",
    "        G.nodes[node][attribute] = 0"
   ]
  },
  {
   "cell_type": "code",
   "execution_count": 25,
   "metadata": {},
   "outputs": [
    {
     "data": {
      "text/plain": [
       "NodeDataView({'South': {'Predator Population': 0, 'Prey Population': 0, 'Carrying Capacity': 0, 'Area': 0}, 'North': {'Predator Population': 0, 'Prey Population': 0, 'Carrying Capacity': 0, 'Area': 0}, 'East': {'Predator Population': 0, 'Prey Population': 0, 'Carrying Capacity': 0, 'Area': 0}, 'West': {'Predator Population': 0, 'Prey Population': 0, 'Carrying Capacity': 0, 'Area': 0}, 'Central': {'Predator Population': 0, 'Prey Population': 0, 'Carrying Capacity': 0, 'Area': 0}})"
      ]
     },
     "execution_count": 25,
     "metadata": {},
     "output_type": "execute_result"
    }
   ],
   "source": [
    "G.nodes.data()"
   ]
  },
  {
   "cell_type": "code",
   "execution_count": 37,
   "metadata": {},
   "outputs": [
    {
     "name": "stdout",
     "output_type": "stream",
     "text": [
      "South 0\n",
      "{'East': {}, 'West': {}, 'Central': {}}\n",
      "North 0\n",
      "{'East': {}, 'West': {}, 'Central': {}}\n",
      "East 0\n",
      "{'North': {}, 'South': {}, 'Central': {}}\n",
      "West 0\n",
      "{'North': {}, 'South': {}, 'Central': {}}\n",
      "Central 0\n",
      "{'East': {}, 'West': {}, 'North': {}, 'South': {}}\n"
     ]
    }
   ],
   "source": [
    "iterations = 10\n",
    "\n",
    "for k,v in G.nodes(data=True):\n",
    "    print(k,v['Predator Population'])\n",
    "    print(G.adj[k])\n"
   ]
  }
 ],
 "metadata": {
  "kernelspec": {
   "display_name": "m3",
   "language": "python",
   "name": "python3"
  },
  "language_info": {
   "codemirror_mode": {
    "name": "ipython",
    "version": 3
   },
   "file_extension": ".py",
   "mimetype": "text/x-python",
   "name": "python",
   "nbconvert_exporter": "python",
   "pygments_lexer": "ipython3",
   "version": "3.10.9"
  },
  "orig_nbformat": 4,
  "vscode": {
   "interpreter": {
    "hash": "0a8f2afa27610b95ed2ce5b530ca1ac4f5fc7dac229b803046af6909005964af"
   }
  }
 },
 "nbformat": 4,
 "nbformat_minor": 2
}
